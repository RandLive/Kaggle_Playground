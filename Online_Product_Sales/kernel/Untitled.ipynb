{
 "cells": [
  {
   "cell_type": "code",
   "execution_count": 1,
   "metadata": {},
   "outputs": [],
   "source": [
    "#invite people for the Kaggle party\n",
    "import pandas as pd\n",
    "import matplotlib.pyplot as plt\n",
    "import seaborn as sns\n",
    "import numpy as np\n",
    "from scipy.stats import norm\n",
    "from sklearn.preprocessing import StandardScaler\n",
    "from scipy import stats\n",
    "import warnings\n",
    "warnings.filterwarnings('ignore')\n",
    "%matplotlib inline"
   ]
  },
  {
   "cell_type": "code",
   "execution_count": 2,
   "metadata": {},
   "outputs": [],
   "source": [
    "df_train = pd.read_csv('../input/train.csv')\n",
    "df_test = pd.read_csv('../input/test.csv')\n",
    "df_sample = pd.read_csv('../input/sample_submission.csv')"
   ]
  },
  {
   "cell_type": "code",
   "execution_count": 3,
   "metadata": {},
   "outputs": [
    {
     "data": {
      "text/plain": [
       "Index(['Outcome_M1', 'Outcome_M2', 'Outcome_M3', 'Outcome_M4', 'Outcome_M5',\n",
       "       'Outcome_M6', 'Outcome_M7', 'Outcome_M8', 'Outcome_M9', 'Outcome_M10',\n",
       "       ...\n",
       "       'Cat_505', 'Cat_506', 'Cat_507', 'Cat_508', 'Cat_509', 'Cat_510',\n",
       "       'Cat_511', 'Cat_512', 'Cat_513', 'Cat_514'],\n",
       "      dtype='object', length=558)"
      ]
     },
     "execution_count": 3,
     "metadata": {},
     "output_type": "execute_result"
    }
   ],
   "source": [
    "#check the decoration\n",
    "df_train.columns"
   ]
  },
  {
   "cell_type": "code",
   "execution_count": 4,
   "metadata": {},
   "outputs": [
    {
     "data": {
      "text/html": [
       "<div>\n",
       "<style scoped>\n",
       "    .dataframe tbody tr th:only-of-type {\n",
       "        vertical-align: middle;\n",
       "    }\n",
       "\n",
       "    .dataframe tbody tr th {\n",
       "        vertical-align: top;\n",
       "    }\n",
       "\n",
       "    .dataframe thead th {\n",
       "        text-align: right;\n",
       "    }\n",
       "</style>\n",
       "<table border=\"1\" class=\"dataframe\">\n",
       "  <thead>\n",
       "    <tr style=\"text-align: right;\">\n",
       "      <th></th>\n",
       "      <th>Outcome_M1</th>\n",
       "      <th>Outcome_M2</th>\n",
       "      <th>Outcome_M3</th>\n",
       "      <th>Outcome_M4</th>\n",
       "      <th>Outcome_M5</th>\n",
       "      <th>Outcome_M6</th>\n",
       "      <th>Outcome_M7</th>\n",
       "      <th>Outcome_M8</th>\n",
       "      <th>Outcome_M9</th>\n",
       "      <th>Outcome_M10</th>\n",
       "      <th>...</th>\n",
       "      <th>Cat_505</th>\n",
       "      <th>Cat_506</th>\n",
       "      <th>Cat_507</th>\n",
       "      <th>Cat_508</th>\n",
       "      <th>Cat_509</th>\n",
       "      <th>Cat_510</th>\n",
       "      <th>Cat_511</th>\n",
       "      <th>Cat_512</th>\n",
       "      <th>Cat_513</th>\n",
       "      <th>Cat_514</th>\n",
       "    </tr>\n",
       "  </thead>\n",
       "  <tbody>\n",
       "    <tr>\n",
       "      <th>0</th>\n",
       "      <td>10000</td>\n",
       "      <td>3000.0</td>\n",
       "      <td>8000.0</td>\n",
       "      <td>3000.0</td>\n",
       "      <td>3000.0</td>\n",
       "      <td>2000.0</td>\n",
       "      <td>2000.0</td>\n",
       "      <td>500.0</td>\n",
       "      <td>500.0</td>\n",
       "      <td>500.0</td>\n",
       "      <td>...</td>\n",
       "      <td>0</td>\n",
       "      <td>0</td>\n",
       "      <td>0</td>\n",
       "      <td>1</td>\n",
       "      <td>0</td>\n",
       "      <td>1</td>\n",
       "      <td>0</td>\n",
       "      <td>0</td>\n",
       "      <td>0</td>\n",
       "      <td>1</td>\n",
       "    </tr>\n",
       "    <tr>\n",
       "      <th>1</th>\n",
       "      <td>8000</td>\n",
       "      <td>8000.0</td>\n",
       "      <td>2000.0</td>\n",
       "      <td>3000.0</td>\n",
       "      <td>2000.0</td>\n",
       "      <td>500.0</td>\n",
       "      <td>2000.0</td>\n",
       "      <td>2000.0</td>\n",
       "      <td>3000.0</td>\n",
       "      <td>500.0</td>\n",
       "      <td>...</td>\n",
       "      <td>0</td>\n",
       "      <td>0</td>\n",
       "      <td>0</td>\n",
       "      <td>1</td>\n",
       "      <td>0</td>\n",
       "      <td>0</td>\n",
       "      <td>0</td>\n",
       "      <td>0</td>\n",
       "      <td>0</td>\n",
       "      <td>1</td>\n",
       "    </tr>\n",
       "    <tr>\n",
       "      <th>2</th>\n",
       "      <td>5000</td>\n",
       "      <td>15000.0</td>\n",
       "      <td>8000.0</td>\n",
       "      <td>3000.0</td>\n",
       "      <td>3000.0</td>\n",
       "      <td>2000.0</td>\n",
       "      <td>2000.0</td>\n",
       "      <td>2000.0</td>\n",
       "      <td>2000.0</td>\n",
       "      <td>500.0</td>\n",
       "      <td>...</td>\n",
       "      <td>0</td>\n",
       "      <td>0</td>\n",
       "      <td>0</td>\n",
       "      <td>1</td>\n",
       "      <td>0</td>\n",
       "      <td>0</td>\n",
       "      <td>0</td>\n",
       "      <td>0</td>\n",
       "      <td>0</td>\n",
       "      <td>1</td>\n",
       "    </tr>\n",
       "    <tr>\n",
       "      <th>3</th>\n",
       "      <td>35000</td>\n",
       "      <td>8000.0</td>\n",
       "      <td>8000.0</td>\n",
       "      <td>5000.0</td>\n",
       "      <td>5000.0</td>\n",
       "      <td>3000.0</td>\n",
       "      <td>2000.0</td>\n",
       "      <td>3000.0</td>\n",
       "      <td>6000.0</td>\n",
       "      <td>2000.0</td>\n",
       "      <td>...</td>\n",
       "      <td>0</td>\n",
       "      <td>0</td>\n",
       "      <td>0</td>\n",
       "      <td>1</td>\n",
       "      <td>0</td>\n",
       "      <td>1</td>\n",
       "      <td>0</td>\n",
       "      <td>0</td>\n",
       "      <td>0</td>\n",
       "      <td>1</td>\n",
       "    </tr>\n",
       "    <tr>\n",
       "      <th>4</th>\n",
       "      <td>16000</td>\n",
       "      <td>2000.0</td>\n",
       "      <td>2000.0</td>\n",
       "      <td>500.0</td>\n",
       "      <td>500.0</td>\n",
       "      <td>500.0</td>\n",
       "      <td>500.0</td>\n",
       "      <td>500.0</td>\n",
       "      <td>500.0</td>\n",
       "      <td>500.0</td>\n",
       "      <td>...</td>\n",
       "      <td>0</td>\n",
       "      <td>0</td>\n",
       "      <td>0</td>\n",
       "      <td>1</td>\n",
       "      <td>0</td>\n",
       "      <td>1</td>\n",
       "      <td>0</td>\n",
       "      <td>0</td>\n",
       "      <td>0</td>\n",
       "      <td>1</td>\n",
       "    </tr>\n",
       "  </tbody>\n",
       "</table>\n",
       "<p>5 rows × 558 columns</p>\n",
       "</div>"
      ],
      "text/plain": [
       "   Outcome_M1  Outcome_M2  Outcome_M3  Outcome_M4  Outcome_M5  Outcome_M6  \\\n",
       "0       10000      3000.0      8000.0      3000.0      3000.0      2000.0   \n",
       "1        8000      8000.0      2000.0      3000.0      2000.0       500.0   \n",
       "2        5000     15000.0      8000.0      3000.0      3000.0      2000.0   \n",
       "3       35000      8000.0      8000.0      5000.0      5000.0      3000.0   \n",
       "4       16000      2000.0      2000.0       500.0       500.0       500.0   \n",
       "\n",
       "   Outcome_M7  Outcome_M8  Outcome_M9  Outcome_M10   ...     Cat_505  Cat_506  \\\n",
       "0      2000.0       500.0       500.0        500.0   ...           0        0   \n",
       "1      2000.0      2000.0      3000.0        500.0   ...           0        0   \n",
       "2      2000.0      2000.0      2000.0        500.0   ...           0        0   \n",
       "3      2000.0      3000.0      6000.0       2000.0   ...           0        0   \n",
       "4       500.0       500.0       500.0        500.0   ...           0        0   \n",
       "\n",
       "   Cat_507  Cat_508  Cat_509  Cat_510  Cat_511  Cat_512  Cat_513  Cat_514  \n",
       "0        0        1        0        1        0        0        0        1  \n",
       "1        0        1        0        0        0        0        0        1  \n",
       "2        0        1        0        0        0        0        0        1  \n",
       "3        0        1        0        1        0        0        0        1  \n",
       "4        0        1        0        1        0        0        0        1  \n",
       "\n",
       "[5 rows x 558 columns]"
      ]
     },
     "execution_count": 4,
     "metadata": {},
     "output_type": "execute_result"
    }
   ],
   "source": [
    "df_train.head()"
   ]
  },
  {
   "cell_type": "code",
   "execution_count": 5,
   "metadata": {},
   "outputs": [
    {
     "name": "stdout",
     "output_type": "stream",
     "text": [
      "<class 'pandas.core.frame.DataFrame'>\n",
      "RangeIndex: 751 entries, 0 to 750\n",
      "Columns: 558 entries, Outcome_M1 to Cat_514\n",
      "dtypes: float64(37), int64(521)\n",
      "memory usage: 3.2 MB\n"
     ]
    }
   ],
   "source": [
    "df_train.info()"
   ]
  },
  {
   "cell_type": "code",
   "execution_count": 6,
   "metadata": {},
   "outputs": [
    {
     "data": {
      "text/html": [
       "<div>\n",
       "<style scoped>\n",
       "    .dataframe tbody tr th:only-of-type {\n",
       "        vertical-align: middle;\n",
       "    }\n",
       "\n",
       "    .dataframe tbody tr th {\n",
       "        vertical-align: top;\n",
       "    }\n",
       "\n",
       "    .dataframe thead th {\n",
       "        text-align: right;\n",
       "    }\n",
       "</style>\n",
       "<table border=\"1\" class=\"dataframe\">\n",
       "  <thead>\n",
       "    <tr style=\"text-align: right;\">\n",
       "      <th></th>\n",
       "      <th>Outcome_M1</th>\n",
       "      <th>Outcome_M2</th>\n",
       "      <th>Outcome_M3</th>\n",
       "      <th>Outcome_M4</th>\n",
       "      <th>Outcome_M5</th>\n",
       "      <th>Outcome_M6</th>\n",
       "      <th>Outcome_M7</th>\n",
       "      <th>Outcome_M8</th>\n",
       "      <th>Outcome_M9</th>\n",
       "      <th>Outcome_M10</th>\n",
       "      <th>...</th>\n",
       "      <th>Cat_505</th>\n",
       "      <th>Cat_506</th>\n",
       "      <th>Cat_507</th>\n",
       "      <th>Cat_508</th>\n",
       "      <th>Cat_509</th>\n",
       "      <th>Cat_510</th>\n",
       "      <th>Cat_511</th>\n",
       "      <th>Cat_512</th>\n",
       "      <th>Cat_513</th>\n",
       "      <th>Cat_514</th>\n",
       "    </tr>\n",
       "  </thead>\n",
       "  <tbody>\n",
       "    <tr>\n",
       "      <th>count</th>\n",
       "      <td>751.000000</td>\n",
       "      <td>748.000000</td>\n",
       "      <td>746.000000</td>\n",
       "      <td>746.000000</td>\n",
       "      <td>727.000000</td>\n",
       "      <td>705.000000</td>\n",
       "      <td>694.000000</td>\n",
       "      <td>687.000000</td>\n",
       "      <td>677.000000</td>\n",
       "      <td>656.000000</td>\n",
       "      <td>...</td>\n",
       "      <td>751.0</td>\n",
       "      <td>751.0</td>\n",
       "      <td>751.0</td>\n",
       "      <td>751.0</td>\n",
       "      <td>751.0</td>\n",
       "      <td>751.000000</td>\n",
       "      <td>751.000000</td>\n",
       "      <td>751.000000</td>\n",
       "      <td>751.000000</td>\n",
       "      <td>751.0</td>\n",
       "    </tr>\n",
       "    <tr>\n",
       "      <th>mean</th>\n",
       "      <td>20620.505992</td>\n",
       "      <td>10837.566845</td>\n",
       "      <td>5194.369973</td>\n",
       "      <td>3494.638070</td>\n",
       "      <td>2852.132050</td>\n",
       "      <td>2018.439716</td>\n",
       "      <td>1751.440922</td>\n",
       "      <td>1492.721980</td>\n",
       "      <td>1411.373708</td>\n",
       "      <td>1320.884146</td>\n",
       "      <td>...</td>\n",
       "      <td>0.0</td>\n",
       "      <td>0.0</td>\n",
       "      <td>0.0</td>\n",
       "      <td>1.0</td>\n",
       "      <td>0.0</td>\n",
       "      <td>0.302264</td>\n",
       "      <td>0.029294</td>\n",
       "      <td>0.034621</td>\n",
       "      <td>0.010652</td>\n",
       "      <td>1.0</td>\n",
       "    </tr>\n",
       "    <tr>\n",
       "      <th>std</th>\n",
       "      <td>54893.895765</td>\n",
       "      <td>26447.885519</td>\n",
       "      <td>10151.524258</td>\n",
       "      <td>6778.269518</td>\n",
       "      <td>6605.350344</td>\n",
       "      <td>2927.572752</td>\n",
       "      <td>1996.524238</td>\n",
       "      <td>1959.116988</td>\n",
       "      <td>2030.529714</td>\n",
       "      <td>1655.987926</td>\n",
       "      <td>...</td>\n",
       "      <td>0.0</td>\n",
       "      <td>0.0</td>\n",
       "      <td>0.0</td>\n",
       "      <td>0.0</td>\n",
       "      <td>0.0</td>\n",
       "      <td>0.459545</td>\n",
       "      <td>0.240432</td>\n",
       "      <td>0.182938</td>\n",
       "      <td>0.145670</td>\n",
       "      <td>0.0</td>\n",
       "    </tr>\n",
       "    <tr>\n",
       "      <th>min</th>\n",
       "      <td>2000.000000</td>\n",
       "      <td>500.000000</td>\n",
       "      <td>500.000000</td>\n",
       "      <td>500.000000</td>\n",
       "      <td>500.000000</td>\n",
       "      <td>500.000000</td>\n",
       "      <td>500.000000</td>\n",
       "      <td>500.000000</td>\n",
       "      <td>500.000000</td>\n",
       "      <td>500.000000</td>\n",
       "      <td>...</td>\n",
       "      <td>0.0</td>\n",
       "      <td>0.0</td>\n",
       "      <td>0.0</td>\n",
       "      <td>1.0</td>\n",
       "      <td>0.0</td>\n",
       "      <td>0.000000</td>\n",
       "      <td>0.000000</td>\n",
       "      <td>0.000000</td>\n",
       "      <td>0.000000</td>\n",
       "      <td>1.0</td>\n",
       "    </tr>\n",
       "    <tr>\n",
       "      <th>25%</th>\n",
       "      <td>2000.000000</td>\n",
       "      <td>2000.000000</td>\n",
       "      <td>500.000000</td>\n",
       "      <td>500.000000</td>\n",
       "      <td>500.000000</td>\n",
       "      <td>500.000000</td>\n",
       "      <td>500.000000</td>\n",
       "      <td>500.000000</td>\n",
       "      <td>500.000000</td>\n",
       "      <td>500.000000</td>\n",
       "      <td>...</td>\n",
       "      <td>0.0</td>\n",
       "      <td>0.0</td>\n",
       "      <td>0.0</td>\n",
       "      <td>1.0</td>\n",
       "      <td>0.0</td>\n",
       "      <td>0.000000</td>\n",
       "      <td>0.000000</td>\n",
       "      <td>0.000000</td>\n",
       "      <td>0.000000</td>\n",
       "      <td>1.0</td>\n",
       "    </tr>\n",
       "    <tr>\n",
       "      <th>50%</th>\n",
       "      <td>5000.000000</td>\n",
       "      <td>3000.000000</td>\n",
       "      <td>2000.000000</td>\n",
       "      <td>2000.000000</td>\n",
       "      <td>2000.000000</td>\n",
       "      <td>2000.000000</td>\n",
       "      <td>2000.000000</td>\n",
       "      <td>500.000000</td>\n",
       "      <td>500.000000</td>\n",
       "      <td>500.000000</td>\n",
       "      <td>...</td>\n",
       "      <td>0.0</td>\n",
       "      <td>0.0</td>\n",
       "      <td>0.0</td>\n",
       "      <td>1.0</td>\n",
       "      <td>0.0</td>\n",
       "      <td>0.000000</td>\n",
       "      <td>0.000000</td>\n",
       "      <td>0.000000</td>\n",
       "      <td>0.000000</td>\n",
       "      <td>1.0</td>\n",
       "    </tr>\n",
       "    <tr>\n",
       "      <th>75%</th>\n",
       "      <td>16000.000000</td>\n",
       "      <td>8000.000000</td>\n",
       "      <td>5000.000000</td>\n",
       "      <td>3000.000000</td>\n",
       "      <td>2000.000000</td>\n",
       "      <td>2000.000000</td>\n",
       "      <td>2000.000000</td>\n",
       "      <td>2000.000000</td>\n",
       "      <td>2000.000000</td>\n",
       "      <td>2000.000000</td>\n",
       "      <td>...</td>\n",
       "      <td>0.0</td>\n",
       "      <td>0.0</td>\n",
       "      <td>0.0</td>\n",
       "      <td>1.0</td>\n",
       "      <td>0.0</td>\n",
       "      <td>1.000000</td>\n",
       "      <td>0.000000</td>\n",
       "      <td>0.000000</td>\n",
       "      <td>0.000000</td>\n",
       "      <td>1.0</td>\n",
       "    </tr>\n",
       "    <tr>\n",
       "      <th>max</th>\n",
       "      <td>795000.000000</td>\n",
       "      <td>315000.000000</td>\n",
       "      <td>108000.000000</td>\n",
       "      <td>74000.000000</td>\n",
       "      <td>81000.000000</td>\n",
       "      <td>27000.000000</td>\n",
       "      <td>21000.000000</td>\n",
       "      <td>21000.000000</td>\n",
       "      <td>23000.000000</td>\n",
       "      <td>23000.000000</td>\n",
       "      <td>...</td>\n",
       "      <td>0.0</td>\n",
       "      <td>0.0</td>\n",
       "      <td>0.0</td>\n",
       "      <td>1.0</td>\n",
       "      <td>0.0</td>\n",
       "      <td>1.000000</td>\n",
       "      <td>2.000000</td>\n",
       "      <td>1.000000</td>\n",
       "      <td>2.000000</td>\n",
       "      <td>1.0</td>\n",
       "    </tr>\n",
       "  </tbody>\n",
       "</table>\n",
       "<p>8 rows × 558 columns</p>\n",
       "</div>"
      ],
      "text/plain": [
       "          Outcome_M1     Outcome_M2     Outcome_M3    Outcome_M4  \\\n",
       "count     751.000000     748.000000     746.000000    746.000000   \n",
       "mean    20620.505992   10837.566845    5194.369973   3494.638070   \n",
       "std     54893.895765   26447.885519   10151.524258   6778.269518   \n",
       "min      2000.000000     500.000000     500.000000    500.000000   \n",
       "25%      2000.000000    2000.000000     500.000000    500.000000   \n",
       "50%      5000.000000    3000.000000    2000.000000   2000.000000   \n",
       "75%     16000.000000    8000.000000    5000.000000   3000.000000   \n",
       "max    795000.000000  315000.000000  108000.000000  74000.000000   \n",
       "\n",
       "         Outcome_M5    Outcome_M6    Outcome_M7    Outcome_M8    Outcome_M9  \\\n",
       "count    727.000000    705.000000    694.000000    687.000000    677.000000   \n",
       "mean    2852.132050   2018.439716   1751.440922   1492.721980   1411.373708   \n",
       "std     6605.350344   2927.572752   1996.524238   1959.116988   2030.529714   \n",
       "min      500.000000    500.000000    500.000000    500.000000    500.000000   \n",
       "25%      500.000000    500.000000    500.000000    500.000000    500.000000   \n",
       "50%     2000.000000   2000.000000   2000.000000    500.000000    500.000000   \n",
       "75%     2000.000000   2000.000000   2000.000000   2000.000000   2000.000000   \n",
       "max    81000.000000  27000.000000  21000.000000  21000.000000  23000.000000   \n",
       "\n",
       "        Outcome_M10   ...     Cat_505  Cat_506  Cat_507  Cat_508  Cat_509  \\\n",
       "count    656.000000   ...       751.0    751.0    751.0    751.0    751.0   \n",
       "mean    1320.884146   ...         0.0      0.0      0.0      1.0      0.0   \n",
       "std     1655.987926   ...         0.0      0.0      0.0      0.0      0.0   \n",
       "min      500.000000   ...         0.0      0.0      0.0      1.0      0.0   \n",
       "25%      500.000000   ...         0.0      0.0      0.0      1.0      0.0   \n",
       "50%      500.000000   ...         0.0      0.0      0.0      1.0      0.0   \n",
       "75%     2000.000000   ...         0.0      0.0      0.0      1.0      0.0   \n",
       "max    23000.000000   ...         0.0      0.0      0.0      1.0      0.0   \n",
       "\n",
       "          Cat_510     Cat_511     Cat_512     Cat_513  Cat_514  \n",
       "count  751.000000  751.000000  751.000000  751.000000    751.0  \n",
       "mean     0.302264    0.029294    0.034621    0.010652      1.0  \n",
       "std      0.459545    0.240432    0.182938    0.145670      0.0  \n",
       "min      0.000000    0.000000    0.000000    0.000000      1.0  \n",
       "25%      0.000000    0.000000    0.000000    0.000000      1.0  \n",
       "50%      0.000000    0.000000    0.000000    0.000000      1.0  \n",
       "75%      1.000000    0.000000    0.000000    0.000000      1.0  \n",
       "max      1.000000    2.000000    1.000000    2.000000      1.0  \n",
       "\n",
       "[8 rows x 558 columns]"
      ]
     },
     "execution_count": 6,
     "metadata": {},
     "output_type": "execute_result"
    }
   ],
   "source": [
    "df_train.describe()"
   ]
  },
  {
   "cell_type": "code",
   "execution_count": 7,
   "metadata": {},
   "outputs": [],
   "source": [
    "plt.rcParams[\"figure.figsize\"] = (18,9)\n",
    "plt.rc('xtick', labelsize=20) \n",
    "plt.rc('ytick', labelsize=20)"
   ]
  },
  {
   "cell_type": "code",
   "execution_count": 8,
   "metadata": {},
   "outputs": [
    {
     "data": {
      "text/plain": [
       "<matplotlib.axes._subplots.AxesSubplot at 0x1fb2913a5f8>"
      ]
     },
     "execution_count": 8,
     "metadata": {},
     "output_type": "execute_result"
    },
    {
     "data": {
      "image/png": "[encoded data removed]",
      "text/plain": [
       "<matplotlib.figure.Figure at 0x1fb29919cf8>"
      ]
     },
     "metadata": {},
     "output_type": "display_data"
    }
   ],
   "source": [
    "# check missing values\n",
    "missing = df_train.isnull().sum()\n",
    "missing = missing[missing > 0]\n",
    "missing.sort_values(inplace=True)\n",
    "missing.plot.bar()"
   ]
  },
  {
   "cell_type": "code",
   "execution_count": 9,
   "metadata": {},
   "outputs": [],
   "source": [
    "plt.rcParams[\"figure.figsize\"] = (18,9)\n",
    "plt.rc('xtick', labelsize=20) \n",
    "plt.rc('ytick', labelsize=20)"
   ]
  },
  {
   "cell_type": "code",
   "execution_count": 10,
   "metadata": {},
   "outputs": [
    {
     "data": {
      "text/plain": [
       "<matplotlib.axes._subplots.AxesSubplot at 0x1fb298db2e8>"
      ]
     },
     "execution_count": 10,
     "metadata": {},
     "output_type": "execute_result"
    },
    {
     "data": {
      "image/png": "[encoded data removed]",
      "text/plain": [
       "<matplotlib.figure.Figure at 0x1fb258d8b00>"
      ]
     },
     "metadata": {},
     "output_type": "display_data"
    }
   ],
   "source": [
    "#histogram\n",
    "sns.distplot(df_train['Outcome_M1'])"
   ]
  },
  {
   "cell_type": "code",
   "execution_count": 11,
   "metadata": {},
   "outputs": [
    {
     "data": {
      "text/plain": [
       "<matplotlib.axes._subplots.AxesSubplot at 0x1fb2917dfd0>"
      ]
     },
     "execution_count": 11,
     "metadata": {},
     "output_type": "execute_result"
    },
    {
     "data": {
      "image/png": "[encoded data removed]",
      "text/plain": [
       "<matplotlib.figure.Figure at 0x1fb298f2ef0>"
      ]
     },
     "metadata": {},
     "output_type": "display_data"
    }
   ],
   "source": [
    "sns.distplot(df_train['Outcome_M3'].fillna(np.mean(df_train['Outcome_M3'])))"
   ]
  },
  {
   "cell_type": "code",
   "execution_count": 12,
   "metadata": {},
   "outputs": [
    {
     "data": {
      "text/plain": [
       "5194.369973190349"
      ]
     },
     "execution_count": 12,
     "metadata": {},
     "output_type": "execute_result"
    }
   ],
   "source": [
    "np.mean(df_train['Outcome_M3'])"
   ]
  },
  {
   "cell_type": "code",
   "execution_count": 13,
   "metadata": {},
   "outputs": [],
   "source": [
    "# handle missing values (use np.mean())\n",
    "for iter_str in range(1, 13):\n",
    "    df_train['Outcome_M'+str(iter_str)] = df_train['Outcome_M'+str(iter_str)].fillna(-1)"
   ]
  },
  {
   "cell_type": "code",
   "execution_count": 14,
   "metadata": {},
   "outputs": [
    {
     "data": {
      "text/plain": [
       "<matplotlib.axes._subplots.AxesSubplot at 0x1fb290a3b70>"
      ]
     },
     "execution_count": 14,
     "metadata": {},
     "output_type": "execute_result"
    },
    {
     "data": {
      "image/png": "[encoded data removed]",
      "text/plain": [
       "<matplotlib.figure.Figure at 0x1fb29103518>"
      ]
     },
     "metadata": {},
     "output_type": "display_data"
    }
   ],
   "source": [
    "# check missing values\n",
    "missing = df_train.isnull().sum()\n",
    "missing = missing[missing > 0]\n",
    "missing.sort_values(inplace=True)\n",
    "missing.plot.bar()"
   ]
  },
  {
   "cell_type": "code",
   "execution_count": 15,
   "metadata": {},
   "outputs": [],
   "source": [
    "df_train = df_train.fillna(0)"
   ]
  },
  {
   "cell_type": "code",
   "execution_count": 21,
   "metadata": {},
   "outputs": [
    {
     "name": "stdout",
     "output_type": "stream",
     "text": [
      "Outcome_M1     0\n",
      "Outcome_M2     0\n",
      "Outcome_M3     0\n",
      "Outcome_M4     0\n",
      "Outcome_M5     0\n",
      "Outcome_M6     0\n",
      "Outcome_M7     0\n",
      "Outcome_M8     0\n",
      "Outcome_M9     0\n",
      "Outcome_M10    0\n",
      "Outcome_M11    0\n",
      "Outcome_M12    0\n",
      "Cat_1          0\n",
      "Date_1         0\n",
      "Quan_1         0\n",
      "Quan_2         0\n",
      "Quan_3         0\n",
      "Quan_4         0\n",
      "Date_2         0\n",
      "Quan_5         0\n",
      "Quan_6         0\n",
      "Quan_7         0\n",
      "Quan_8         0\n",
      "Quan_9         0\n",
      "Quan_10        0\n",
      "Quan_11        0\n",
      "Quan_12        0\n",
      "Quan_13        0\n",
      "Quan_14        0\n",
      "Cat_2          0\n",
      "              ..\n",
      "Cat_490        0\n",
      "Cat_491        0\n",
      "Cat_492        0\n",
      "Cat_493        0\n",
      "Cat_494        0\n",
      "Cat_495        0\n",
      "Cat_496        0\n",
      "Cat_497        0\n",
      "Cat_498        0\n",
      "Cat_499        0\n",
      "Cat_500        0\n",
      "Quan_26        0\n",
      "Cat_501        0\n",
      "Cat_502        0\n",
      "Cat_503        0\n",
      "Cat_504        0\n",
      "Quan_27        0\n",
      "Quan_28        0\n",
      "Quan_29        0\n",
      "Quan_30        0\n",
      "Cat_505        0\n",
      "Cat_506        0\n",
      "Cat_507        0\n",
      "Cat_508        0\n",
      "Cat_509        0\n",
      "Cat_510        0\n",
      "Cat_511        0\n",
      "Cat_512        0\n",
      "Cat_513        0\n",
      "Cat_514        0\n",
      "Length: 558, dtype: int64\n"
     ]
    }
   ],
   "source": [
    "# check missing values\n",
    "missing = df_train.isnull().sum()\n",
    "print(missing)"
   ]
  },
  {
   "cell_type": "code",
   "execution_count": 22,
   "metadata": {},
   "outputs": [],
   "source": [
    "for iter_str in range(1, 13):\n",
    "    df_train = df_train.drop('', axis=1)"
   ]
  },
  {
   "cell_type": "code",
   "execution_count": null,
   "metadata": {},
   "outputs": [],
   "source": []
  }
 ],
 "metadata": {
  "kernelspec": {
   "display_name": "Python 3",
   "language": "python",
   "name": "python3"
  },
  "language_info": {
   "codemirror_mode": {
    "name": "ipython",
    "version": 3
   },
   "file_extension": ".py",
   "mimetype": "text/x-python",
   "name": "python",
   "nbconvert_exporter": "python",
   "pygments_lexer": "ipython3",
   "version": "3.6.3"
  }
 },
 "nbformat": 4,
 "nbformat_minor": 2
}
